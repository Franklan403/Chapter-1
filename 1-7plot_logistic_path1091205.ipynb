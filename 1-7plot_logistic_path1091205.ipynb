{
 "cells": [
  {
   "cell_type": "markdown",
   "metadata": {},
   "source": [
    "## 解決過擬合問題有兩個主要選項：\n",
    "\n",
    "### 1. 減少特徵的數量：\n",
    "- 手動選擇要保留的特徵，哪些變數更為重要，哪些變數應該保留，哪些應該捨棄。 \n",
    "- 使用模型選擇演算法，演算法會自動選擇哪些特徵變數保留，哪些捨棄。\n",
    "\n",
    "缺點是捨棄了一些特徵以後，也就捨棄了一些問題的關鍵資訊。\n",
    "\n",
    "### 2. 正規化\n",
    "- 保留所有的特徵，但減少參數 $\\theta_{j}$ 的大小或者減少量級。 \n",
    "- 當有很多個特徵的時候，並且每個特徵都會對最終預測值產生影響，正規化可以保證運作良好。\n",
    "\n",
    "\n",
    "\n",
    "正規化目的是儘量去簡化這個假設模型。因為這些參數都接近0的時候，越簡單的模型也被證明越不容易出現過擬合的問題。\n",
    "\n",
    "\n",
    "減少一些數量級的特徵，加一些“懲罰”項(為了使代價函數最小，乘以 1000 就是懲罰)。\n",
    "\n",
    "代價函數：\n",
    "\n",
    "$$ \\rm{CostFunction} = \\rm{F}({\\theta}) = \\frac{1}{2m} \\left [ \\sum_{i = 1}^{m} (h_{\\theta}(x^{(i)})-y^{(i)})^2 + \\lambda \\sum_{i = 1}^{m} \\theta_{j}^{2} \\right ]$$\n",
    "\n",
    "\n",
    "$\\lambda \\sum_{i = 1}^{m} \\theta_{j}^{2}$ 是正規化項，它縮小每個參數的值。 $\\lambda$ 是正規化參數，$\\lambda$ 控制兩個不同目標之間的取捨，即更好的去擬合訓練集的目標 和 將參數控制的更小的目標，從而保持假設模型的相對簡單，避免出現過擬合的情況。\n",
    "\n",
    "但是如果選擇的 $\\lambda $ 太大，可能會過多地消除特徵，導致 $\\theta$ 都約等於 0 了，最終預測函數變成了直線了。這就變成了欠擬合。"
   ]
  },
  {
   "cell_type": "markdown",
   "metadata": {},
   "source": [
    "\n",
    "# 羅吉斯迴歸的L1-正規化路徑\n",
    "\n",
    "本操作實例會載入鳶尾花(Iris)資料集，其目標包含三種不同的鳶尾花品種（setosa、versicolor、virginica），儲存為150 * 4的numpy.ndarray，其4個特徵欄位如下：\n",
    "1. 花萼長度（petal length） \n",
    "2. 花萼寬度（petal width） \n",
    "3. 花瓣長度（sepal length） \n",
    "4. 花瓣寬度（sepal width）\n",
    "\n",
    "此一操作實例在源自鳶尾花資料集的二元分類問題上訓練L1懲罰的羅吉斯迴歸模型，這些模型按從最強正規化到最小正規化的順序排列，收集模型的4個係數並將其繪製為“正規化路徑”：在圖的左側（強正規化器），所有係數正好為0。當正規化變得越來越寬鬆時，係數可能會一個接一個變為非零值。\n",
    "\n",
    "在這裡，我們選擇liblinear求解器，因為它可以有效地優化羅吉斯迴歸損失，並且具有非平滑，稀疏性導致l1損失。\n",
    "\n",
    "還要注意，我們為誤差設置了一個較低的值，以確保在收集係數之前模型已經收斂。\n",
    "\n",
    "我們還使用warm_start = True，這意味著將重新使用模型的係數來初始化下一個適合的模型，從而加快全路徑的計算速度。\n"
   ]
  },
  {
   "cell_type": "code",
   "execution_count": 1,
   "metadata": {},
   "outputs": [
    {
     "name": "stdout",
     "output_type": "stream",
     "text": [
      "Automatically created module for IPython interactive environment\n"
     ]
    }
   ],
   "source": [
    "# 導入所需套件\n",
    "%matplotlib inline\n",
    "print(__doc__)\n",
    "from time import time\n",
    "import numpy as np\n",
    "import matplotlib.pyplot as plt\n",
    "from sklearn import datasets\n",
    "from sklearn import linear_model\n",
    "\n",
    "from sklearn.svm import l1_min_c"
   ]
  },
  {
   "cell_type": "code",
   "execution_count": 2,
   "metadata": {},
   "outputs": [],
   "source": [
    "# 載入鳶尾花資料集與處理資料\n",
    "iris = datasets.load_iris()\n",
    "X = iris.data\n",
    "y = iris.target\n",
    "\n",
    "X = X[y != 2]\n",
    "y = y[y != 2]\n",
    "\n",
    "X /= X.max()  # 標準化X以加快收斂"
   ]
  },
  {
   "cell_type": "code",
   "execution_count": 3,
   "metadata": {},
   "outputs": [
    {
     "name": "stdout",
     "output_type": "stream",
     "text": [
      "Computing regularization path ...\n",
      "This took 0.183s\n"
     ]
    },
    {
     "data": {
      "image/png": "[encoded data removed]",
      "text/plain": [
       "<Figure size 432x288 with 1 Axes>"
      ]
     },
     "metadata": {
      "needs_background": "light"
     },
     "output_type": "display_data"
    }
   ],
   "source": [
    "# 建立羅吉斯迴歸模型以展示path functions\n",
    "cs = l1_min_c(X, y, loss='log') * np.logspace(0, 7, 16)\n",
    "print(\"Computing regularization path ...\")\n",
    "start = time()\n",
    "clf = linear_model.LogisticRegression(penalty='l1', solver='liblinear',\n",
    "                                      tol=1e-6, max_iter=int(1e6),\n",
    "                                      warm_start=True,\n",
    "                                      intercept_scaling=10000.)\n",
    "coefs_ = []\n",
    "for c in cs:\n",
    "    clf.set_params(C=c)\n",
    "    clf.fit(X, y)\n",
    "    coefs_.append(clf.coef_.ravel().copy())\n",
    "print(\"This took %0.3fs\" % (time() - start))\n",
    "\n",
    "coefs_ = np.array(coefs_)\n",
    "plt.plot(np.log10(cs), coefs_, marker='o')\n",
    "ymin, ymax = plt.ylim()\n",
    "plt.xlabel('log(C)')\n",
    "plt.ylabel('Coefficients')\n",
    "plt.title('Logistic Regression Path')\n",
    "plt.axis('tight')\n",
    "plt.show()"
   ]
  }
 ],
 "metadata": {
  "kernelspec": {
   "display_name": "Python 3",
   "language": "python",
   "name": "python3"
  },
  "language_info": {
   "codemirror_mode": {
    "name": "ipython",
    "version": 3
   },
   "file_extension": ".py",
   "mimetype": "text/x-python",
   "name": "python",
   "nbconvert_exporter": "python",
   "pygments_lexer": "ipython3",
   "version": "3.7.9"
  }
 },
 "nbformat": 4,
 "nbformat_minor": 1
}
