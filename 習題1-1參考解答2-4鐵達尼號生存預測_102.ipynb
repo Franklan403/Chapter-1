{
 "cells": [
  {
   "cell_type": "markdown",
   "metadata": {},
   "source": [
    "## 習題1-1參考解答"
   ]
  },
  {
   "cell_type": "code",
   "execution_count": 1,
   "metadata": {},
   "outputs": [],
   "source": [
    "#匯入需要套件\n",
    "import pandas as pd\n",
    "import numpy as np\n",
    "from sklearn import preprocessing, linear_model\n",
    "\n",
    "# 原始資料\n",
    "titanic = pd.read_csv(\"titanic.csv\")"
   ]
  },
  {
   "cell_type": "code",
   "execution_count": 2,
   "metadata": {},
   "outputs": [
    {
     "name": "stdout",
     "output_type": "stream",
     "text": [
      "\n",
      "年齡中位數= 28.0\n",
      "\n"
     ]
    }
   ],
   "source": [
    "# 由於資料中有nan，np.median無法求得正確的中位數\n",
    "# 改用np.nanmedian求年齡的中位數，接著將年齡的空值填入年齡的中位數\n",
    "age_median = np.nanmedian(titanic[\"Age\"])\n",
    "print()\n",
    "print(\"年齡中位數=\", age_median)\n",
    "print()\n",
    "new_age = np.where(titanic[\"Age\"].isnull(), age_median, titanic[\"Age\"])\n",
    "titanic[\"Age\"] = new_age"
   ]
  },
  {
   "cell_type": "code",
   "execution_count": 3,
   "metadata": {},
   "outputs": [
    {
     "name": "stdout",
     "output_type": "stream",
     "text": [
      "Before transform: 0       1st\n",
      "1       1st\n",
      "2       1st\n",
      "3       1st\n",
      "4       1st\n",
      "       ... \n",
      "1308    3rd\n",
      "1309    3rd\n",
      "1310    3rd\n",
      "1311    3rd\n",
      "1312    3rd\n",
      "Name: PClass, Length: 1313, dtype: object\n",
      "After transform: [1 1 1 ... 3 3 3]\n"
     ]
    }
   ],
   "source": [
    "# 轉換PClass欄位值成為數值，改用編碼後的乘客等級和年齡來預測\n",
    "print(\"Before transform:\",titanic[\"PClass\"])\n",
    "label_encoder = preprocessing.LabelEncoder()\n",
    "encoded_class = label_encoder.fit_transform(titanic[\"PClass\"])\n",
    "print(\"After transform:\",encoded_class)"
   ]
  },
  {
   "cell_type": "code",
   "execution_count": 4,
   "metadata": {},
   "outputs": [
    {
     "name": "stdout",
     "output_type": "stream",
     "text": [
      "Confusion Matrix\n",
      "Survived    0    1\n",
      "row_0             \n",
      "0         765  267\n",
      "1          98  183\n",
      "0.722010662604722\n"
     ]
    }
   ],
   "source": [
    "#X = pd.DataFrame([encoded_class, titanic[\"SexCode\"], titanic[\"Age\"]]).T\n",
    "X = pd.DataFrame([encoded_class, titanic[\"Age\"]]).T\n",
    "y = titanic[\"Survived\"]\n",
    "# 建立與訓練模型\n",
    "logistic = linear_model.LogisticRegression()\n",
    "logistic.fit(X, y)\n",
    "# 求混淆矩陣(Confusion Matrix)，計算準確度\n",
    "print('Confusion Matrix')\n",
    "preds = logistic.predict(X)\n",
    "print(pd.crosstab(preds, titanic[\"Survived\"]))\n",
    "print(logistic.score(X, y))"
   ]
  },
  {
   "cell_type": "code",
   "execution_count": null,
   "metadata": {},
   "outputs": [],
   "source": []
  }
 ],
 "metadata": {
  "kernelspec": {
   "display_name": "Python 3",
   "language": "python",
   "name": "python3"
  },
  "language_info": {
   "codemirror_mode": {
    "name": "ipython",
    "version": 3
   },
   "file_extension": ".py",
   "mimetype": "text/x-python",
   "name": "python",
   "nbconvert_exporter": "python",
   "pygments_lexer": "ipython3",
   "version": "3.7.9"
  }
 },
 "nbformat": 4,
 "nbformat_minor": 2
}
